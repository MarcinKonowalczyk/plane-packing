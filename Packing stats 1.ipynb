{
 "cells": [
  {
   "cell_type": "code",
   "execution_count": 1,
   "metadata": {
    "collapsed": true
   },
   "outputs": [],
   "source": [
    "from plane_packing import Plane, pack_plane\n",
    "from packing_orders import random_order, back_to_front, front_to_back, windows_first, alley_first\n",
    "\n",
    "import numpy as np\n",
    "import matplotlib.pyplot as plt"
   ]
  },
  {
   "cell_type": "code",
   "execution_count": 2,
   "metadata": {
    "collapsed": true
   },
   "outputs": [],
   "source": [
    "from ipywidgets import FloatProgress\n",
    "from IPython.display import display"
   ]
  },
  {
   "cell_type": "code",
   "execution_count": 4,
   "metadata": {
    "collapsed": true
   },
   "outputs": [],
   "source": [
    "def pack_helper(rows, seats, dfun):\n",
    "    p = Plane(rows, seats)\n",
    "    n = pack_plane(p,dfun(p))\n",
    "    return n"
   ]
  },
  {
   "cell_type": "code",
   "execution_count": 6,
   "metadata": {},
   "outputs": [
    {
     "data": {
      "application/vnd.jupyter.widget-view+json": {
       "model_id": "e5b01eb09070483a88f3cc7b59a8f1f7",
       "version_major": 2,
       "version_minor": 0
      },
      "text/plain": [
       "A Jupyter Widget"
      ]
     },
     "metadata": {},
     "output_type": "display_data"
    }
   ],
   "source": [
    "Ns = {'rnd':[],'b2f':[],'f2b':[],'wd1':[],'al1':[]}\n",
    "N = 300\n",
    "rows, seats = 12, 3\n",
    "\n",
    "f = FloatProgress(min=0, max=100, description = 'Packing:')\n",
    "display(f)\n",
    "for j in range(N):\n",
    "    Ns['rnd'].append(pack_helper(rows,seats,random_order))\n",
    "    Ns['b2f'].append(pack_helper(rows,seats,back_to_front))\n",
    "    Ns['f2b'].append(pack_helper(rows,seats,front_to_back))\n",
    "    Ns['wd1'].append(pack_helper(rows,seats,windows_first))\n",
    "    Ns['al1'].append(pack_helper(rows,seats,alley_first))\n",
    "    if not j%(N/100): f.value+=1"
   ]
  },
  {
   "cell_type": "code",
   "execution_count": 15,
   "metadata": {},
   "outputs": [
    {
     "data": {
      "image/png": "[encoded data removed]",
      "text/plain": [
       "<matplotlib.figure.Figure at 0x111202da0>"
      ]
     },
     "metadata": {},
     "output_type": "display_data"
    }
   ],
   "source": [
    "v = range(150,210,2)\n",
    "plt.hist(Ns['rnd'], v, alpha=0.5, label = 'Random')\n",
    "plt.hist(Ns['b2f'], v, alpha=0.5, label = 'Back to front')\n",
    "plt.hist(Ns['f2b'], v, alpha=0.5, label = 'Front to back')\n",
    "plt.hist(Ns['wd1'], v, alpha=0.5, label = 'Windows first')\n",
    "plt.hist(Ns['al1'], v, alpha=0.5, label = 'Alley first')\n",
    "plt.grid(True)\n",
    "#plt.legend(bbox_to_anchor=(1.05, 1), loc='upper left', borderaxespad=0.)\n",
    "plt.legend()\n",
    "plt.xlabel('Interations')\n",
    "plt.title('Comparison of packing orders')\n",
    "plt.savefig('histogram.png')\n",
    "plt.show()"
   ]
  },
  {
   "cell_type": "code",
   "execution_count": null,
   "metadata": {
    "collapsed": true
   },
   "outputs": [],
   "source": []
  }
 ],
 "metadata": {
  "kernelspec": {
   "display_name": "Python 3",
   "language": "python",
   "name": "python3"
  },
  "language_info": {
   "codemirror_mode": {
    "name": "ipython",
    "version": 3
   },
   "file_extension": ".py",
   "mimetype": "text/x-python",
   "name": "python",
   "nbconvert_exporter": "python",
   "pygments_lexer": "ipython3",
   "version": "3.6.3"
  }
 },
 "nbformat": 4,
 "nbformat_minor": 2
}
