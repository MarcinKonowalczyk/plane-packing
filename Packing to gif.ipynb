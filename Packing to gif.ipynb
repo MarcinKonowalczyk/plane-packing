{
 "cells": [
  {
   "cell_type": "code",
   "execution_count": 13,
   "metadata": {
    "collapsed": true
   },
   "outputs": [],
   "source": [
    "from plane_packing import Plane\n",
    "import packing_orders\n",
    "from random import shuffle\n",
    "import os"
   ]
  },
  {
   "cell_type": "code",
   "execution_count": 16,
   "metadata": {
    "collapsed": true
   },
   "outputs": [],
   "source": [
    "orders = [(packing_orders.random_order,'random_order'),\n",
    "          (packing_orders.back_to_front,'back_to_front'),\n",
    "          (packing_orders.front_to_back,'front_to_back'),\n",
    "          (packing_orders.windows_first,'windows_first'),\n",
    "          (packing_orders.alley_first,'alley_first')]\n",
    "\n",
    "for orderfun, name in orders:\n",
    "    p = Plane(5,3)\n",
    "    destinations = orderfun(p)\n",
    "\n",
    "    images = []\n",
    "    SIZE = 2\n",
    "\n",
    "    j=0\n",
    "    images.append(p.to_image(SIZE))\n",
    "\n",
    "    p.spawn(destinations[0],1)\n",
    "    del destinations[0]\n",
    "\n",
    "    j+=1\n",
    "    images.append(p.to_image(SIZE))\n",
    "\n",
    "    while not (p.happy):\n",
    "        if len(destinations) > 0:\n",
    "            dest = destinations[0]\n",
    "            success = p.spawn(dest)\n",
    "            if success:\n",
    "                del destinations[0]\n",
    "\n",
    "        p.update_passengers()\n",
    "        j += 1\n",
    "        images.append(p.to_image(SIZE))\n",
    "\n",
    "    images[0].save('{}.gif'.format(name),\n",
    "                   save_all=True,\n",
    "                   append_images=images[1:],\n",
    "                   duration=len(images),\n",
    "                   loop=0)"
   ]
  },
  {
   "cell_type": "code",
   "execution_count": 7,
   "metadata": {
    "scrolled": true
   },
   "outputs": [
    {
     "data": {
      "image/png": "[encoded data removed]",
      "text/plain": [
       "<PIL.Image.Image image mode=RGB size=448x320 at 0x116F81C18>"
      ]
     },
     "execution_count": 7,
     "metadata": {},
     "output_type": "execute_result"
    }
   ],
   "source": [
    "images[-1]"
   ]
  },
  {
   "cell_type": "code",
   "execution_count": null,
   "metadata": {
    "collapsed": true
   },
   "outputs": [],
   "source": []
  }
 ],
 "metadata": {
  "kernelspec": {
   "display_name": "Python 3",
   "language": "python",
   "name": "python3"
  },
  "language_info": {
   "codemirror_mode": {
    "name": "ipython",
    "version": 3
   },
   "file_extension": ".py",
   "mimetype": "text/x-python",
   "name": "python",
   "nbconvert_exporter": "python",
   "pygments_lexer": "ipython3",
   "version": "3.6.3"
  }
 },
 "nbformat": 4,
 "nbformat_minor": 2
}
