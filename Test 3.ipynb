{
 "cells": [
  {
   "cell_type": "code",
   "execution_count": 20,
   "metadata": {},
   "outputs": [],
   "source": [
    "from plane_packing import Plane\n",
    "from random import shuffle\n",
    "import os"
   ]
  },
  {
   "cell_type": "code",
   "execution_count": 23,
   "metadata": {},
   "outputs": [],
   "source": [
    "p = Plane(5,3)\n",
    "\n",
    "destinations = p.all_destinations()\n",
    "shuffle(destinations)\n",
    "\n",
    "images = []\n",
    "SIZE = 4\n",
    "\n",
    "j=0\n",
    "images.append(p.to_image(SIZE))\n",
    "\n",
    "p.spawn(destinations.pop(),1)\n",
    "j+=1\n",
    "images.append(p.to_image(SIZE))\n",
    "\n",
    "while not (p.happy):\n",
    "    if len(destinations) > 0:\n",
    "        dest = destinations[0]\n",
    "        success = p.spawn(dest)\n",
    "        if success:\n",
    "            del destinations[0]\n",
    "    \n",
    "    p.update_passengers()\n",
    "    j += 1\n",
    "    images.append(p.to_image(SIZE))"
   ]
  },
  {
   "cell_type": "code",
   "execution_count": 24,
   "metadata": {},
   "outputs": [],
   "source": [
    "images[0].save('test.gif',\n",
    "               save_all=True,\n",
    "               append_images=images[1:],\n",
    "               duration=len(images),\n",
    "               loop=0)"
   ]
  },
  {
   "cell_type": "code",
   "execution_count": 25,
   "metadata": {
    "scrolled": true
   },
   "outputs": [
    {
     "data": {
      "image/png": "[encoded data removed]",
      "text/plain": [
       "<PIL.Image.Image image mode=RGB size=448x320 at 0x1145BD320>"
      ]
     },
     "execution_count": 25,
     "metadata": {},
     "output_type": "execute_result"
    }
   ],
   "source": [
    "images[-1]"
   ]
  },
  {
   "cell_type": "code",
   "execution_count": null,
   "metadata": {
    "collapsed": true
   },
   "outputs": [],
   "source": []
  }
 ],
 "metadata": {
  "kernelspec": {
   "display_name": "Python 3",
   "language": "python",
   "name": "python3"
  },
  "language_info": {
   "codemirror_mode": {
    "name": "ipython",
    "version": 3
   },
   "file_extension": ".py",
   "mimetype": "text/x-python",
   "name": "python",
   "nbconvert_exporter": "python",
   "pygments_lexer": "ipython3",
   "version": "3.6.3"
  }
 },
 "nbformat": 4,
 "nbformat_minor": 2
}
